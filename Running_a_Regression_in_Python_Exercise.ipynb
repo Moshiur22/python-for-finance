{
  "cells": [
    {
      "cell_type": "markdown",
      "metadata": {
        "id": "la39zCFHrM8h"
      },
      "source": [
        "## Running a Regression in Python"
      ]
    },
    {
      "cell_type": "markdown",
      "metadata": {
        "id": "7ctX1QpvrM8x"
      },
      "source": [
        "*A teacher at school decided her students should take an IQ test. She prepared 5 tests she believed were aligned with the requirements of the IQ examination.\n",
        "The father of one child in the class turned out to be an econometrician, so he asked her for the results of the 30 kids. The file contained the points they earned on each test and the final IQ score.*"
      ]
    },
    {
      "cell_type": "markdown",
      "metadata": {
        "id": "FceNNIrurM81"
      },
      "source": [
        "Load the IQ_data excel file. "
      ]
    },
    {
      "cell_type": "code",
      "source": [
        "import pandas as pd\n",
        "import numpy as np\n",
        "import matplotlib.pyplot as plt\n",
        "from scipy import stats\n",
        "import statsmodels.api as sm\n",
        "\n"
      ],
      "metadata": {
        "id": "0e9KlVvurzGl"
      },
      "execution_count": 52,
      "outputs": []
    },
    {
      "cell_type": "code",
      "execution_count": 53,
      "metadata": {
        "collapsed": true,
        "colab": {
          "base_uri": "https://localhost:8080/",
          "height": 990
        },
        "id": "bmuWyxrSrM85",
        "outputId": "b6829d32-2a23-450f-ce2a-83cc436733c4"
      },
      "outputs": [
        {
          "output_type": "execute_result",
          "data": {
            "text/plain": [
              "     IQ  Test 1  Test 2  Test 3  Test 4  Test 5\n",
              "0   107      84      35      66      64      65\n",
              "1    93      74      20      74      49      83\n",
              "2   103      55      82      83      66      74\n",
              "3   122      97      73      92      89      95\n",
              "4   103      85      54      73      69      83\n",
              "5   106      87      73      64      78      58\n",
              "6    98      77      63      65      70      65\n",
              "7    93      55      50      44      53      85\n",
              "8    95      38      44      93      40      73\n",
              "9    13      43      55      97      49      84\n",
              "10  131      72      64      53      70      43\n",
              "11  116      64      75      75      72      92\n",
              "12   99      70      82      83      76      55\n",
              "13   97      82      90      65      86      63\n",
              "14  104      51      76      73      65      46\n",
              "15  103      80      31      62      60      61\n",
              "16   89      70      16      70      45      79\n",
              "17   99      51      78      79      62      70\n",
              "18  118      93      69      88      85      91\n",
              "19   99      81      50      69      65      79\n",
              "20  102      83      69      60      74      54\n",
              "21   94      73      59      61      66      61\n",
              "22   89      51      46      40      49      81\n",
              "23   91      34      40      89      36      69\n",
              "24    9      39      51      93      45      80\n",
              "25  127      68       0      49      66      39\n",
              "26  112      60      71      71      68      88\n",
              "27   95      66      78      79      72      51\n",
              "28   93      78      86      61      82      59\n",
              "29  100      47      72      69      61      42"
            ],
            "text/html": [
              "\n",
              "  <div id=\"df-ee8b797f-2ebe-499a-a882-85a48ec06825\">\n",
              "    <div class=\"colab-df-container\">\n",
              "      <div>\n",
              "<style scoped>\n",
              "    .dataframe tbody tr th:only-of-type {\n",
              "        vertical-align: middle;\n",
              "    }\n",
              "\n",
              "    .dataframe tbody tr th {\n",
              "        vertical-align: top;\n",
              "    }\n",
              "\n",
              "    .dataframe thead th {\n",
              "        text-align: right;\n",
              "    }\n",
              "</style>\n",
              "<table border=\"1\" class=\"dataframe\">\n",
              "  <thead>\n",
              "    <tr style=\"text-align: right;\">\n",
              "      <th></th>\n",
              "      <th>IQ</th>\n",
              "      <th>Test 1</th>\n",
              "      <th>Test 2</th>\n",
              "      <th>Test 3</th>\n",
              "      <th>Test 4</th>\n",
              "      <th>Test 5</th>\n",
              "    </tr>\n",
              "  </thead>\n",
              "  <tbody>\n",
              "    <tr>\n",
              "      <th>0</th>\n",
              "      <td>107</td>\n",
              "      <td>84</td>\n",
              "      <td>35</td>\n",
              "      <td>66</td>\n",
              "      <td>64</td>\n",
              "      <td>65</td>\n",
              "    </tr>\n",
              "    <tr>\n",
              "      <th>1</th>\n",
              "      <td>93</td>\n",
              "      <td>74</td>\n",
              "      <td>20</td>\n",
              "      <td>74</td>\n",
              "      <td>49</td>\n",
              "      <td>83</td>\n",
              "    </tr>\n",
              "    <tr>\n",
              "      <th>2</th>\n",
              "      <td>103</td>\n",
              "      <td>55</td>\n",
              "      <td>82</td>\n",
              "      <td>83</td>\n",
              "      <td>66</td>\n",
              "      <td>74</td>\n",
              "    </tr>\n",
              "    <tr>\n",
              "      <th>3</th>\n",
              "      <td>122</td>\n",
              "      <td>97</td>\n",
              "      <td>73</td>\n",
              "      <td>92</td>\n",
              "      <td>89</td>\n",
              "      <td>95</td>\n",
              "    </tr>\n",
              "    <tr>\n",
              "      <th>4</th>\n",
              "      <td>103</td>\n",
              "      <td>85</td>\n",
              "      <td>54</td>\n",
              "      <td>73</td>\n",
              "      <td>69</td>\n",
              "      <td>83</td>\n",
              "    </tr>\n",
              "    <tr>\n",
              "      <th>5</th>\n",
              "      <td>106</td>\n",
              "      <td>87</td>\n",
              "      <td>73</td>\n",
              "      <td>64</td>\n",
              "      <td>78</td>\n",
              "      <td>58</td>\n",
              "    </tr>\n",
              "    <tr>\n",
              "      <th>6</th>\n",
              "      <td>98</td>\n",
              "      <td>77</td>\n",
              "      <td>63</td>\n",
              "      <td>65</td>\n",
              "      <td>70</td>\n",
              "      <td>65</td>\n",
              "    </tr>\n",
              "    <tr>\n",
              "      <th>7</th>\n",
              "      <td>93</td>\n",
              "      <td>55</td>\n",
              "      <td>50</td>\n",
              "      <td>44</td>\n",
              "      <td>53</td>\n",
              "      <td>85</td>\n",
              "    </tr>\n",
              "    <tr>\n",
              "      <th>8</th>\n",
              "      <td>95</td>\n",
              "      <td>38</td>\n",
              "      <td>44</td>\n",
              "      <td>93</td>\n",
              "      <td>40</td>\n",
              "      <td>73</td>\n",
              "    </tr>\n",
              "    <tr>\n",
              "      <th>9</th>\n",
              "      <td>13</td>\n",
              "      <td>43</td>\n",
              "      <td>55</td>\n",
              "      <td>97</td>\n",
              "      <td>49</td>\n",
              "      <td>84</td>\n",
              "    </tr>\n",
              "    <tr>\n",
              "      <th>10</th>\n",
              "      <td>131</td>\n",
              "      <td>72</td>\n",
              "      <td>64</td>\n",
              "      <td>53</td>\n",
              "      <td>70</td>\n",
              "      <td>43</td>\n",
              "    </tr>\n",
              "    <tr>\n",
              "      <th>11</th>\n",
              "      <td>116</td>\n",
              "      <td>64</td>\n",
              "      <td>75</td>\n",
              "      <td>75</td>\n",
              "      <td>72</td>\n",
              "      <td>92</td>\n",
              "    </tr>\n",
              "    <tr>\n",
              "      <th>12</th>\n",
              "      <td>99</td>\n",
              "      <td>70</td>\n",
              "      <td>82</td>\n",
              "      <td>83</td>\n",
              "      <td>76</td>\n",
              "      <td>55</td>\n",
              "    </tr>\n",
              "    <tr>\n",
              "      <th>13</th>\n",
              "      <td>97</td>\n",
              "      <td>82</td>\n",
              "      <td>90</td>\n",
              "      <td>65</td>\n",
              "      <td>86</td>\n",
              "      <td>63</td>\n",
              "    </tr>\n",
              "    <tr>\n",
              "      <th>14</th>\n",
              "      <td>104</td>\n",
              "      <td>51</td>\n",
              "      <td>76</td>\n",
              "      <td>73</td>\n",
              "      <td>65</td>\n",
              "      <td>46</td>\n",
              "    </tr>\n",
              "    <tr>\n",
              "      <th>15</th>\n",
              "      <td>103</td>\n",
              "      <td>80</td>\n",
              "      <td>31</td>\n",
              "      <td>62</td>\n",
              "      <td>60</td>\n",
              "      <td>61</td>\n",
              "    </tr>\n",
              "    <tr>\n",
              "      <th>16</th>\n",
              "      <td>89</td>\n",
              "      <td>70</td>\n",
              "      <td>16</td>\n",
              "      <td>70</td>\n",
              "      <td>45</td>\n",
              "      <td>79</td>\n",
              "    </tr>\n",
              "    <tr>\n",
              "      <th>17</th>\n",
              "      <td>99</td>\n",
              "      <td>51</td>\n",
              "      <td>78</td>\n",
              "      <td>79</td>\n",
              "      <td>62</td>\n",
              "      <td>70</td>\n",
              "    </tr>\n",
              "    <tr>\n",
              "      <th>18</th>\n",
              "      <td>118</td>\n",
              "      <td>93</td>\n",
              "      <td>69</td>\n",
              "      <td>88</td>\n",
              "      <td>85</td>\n",
              "      <td>91</td>\n",
              "    </tr>\n",
              "    <tr>\n",
              "      <th>19</th>\n",
              "      <td>99</td>\n",
              "      <td>81</td>\n",
              "      <td>50</td>\n",
              "      <td>69</td>\n",
              "      <td>65</td>\n",
              "      <td>79</td>\n",
              "    </tr>\n",
              "    <tr>\n",
              "      <th>20</th>\n",
              "      <td>102</td>\n",
              "      <td>83</td>\n",
              "      <td>69</td>\n",
              "      <td>60</td>\n",
              "      <td>74</td>\n",
              "      <td>54</td>\n",
              "    </tr>\n",
              "    <tr>\n",
              "      <th>21</th>\n",
              "      <td>94</td>\n",
              "      <td>73</td>\n",
              "      <td>59</td>\n",
              "      <td>61</td>\n",
              "      <td>66</td>\n",
              "      <td>61</td>\n",
              "    </tr>\n",
              "    <tr>\n",
              "      <th>22</th>\n",
              "      <td>89</td>\n",
              "      <td>51</td>\n",
              "      <td>46</td>\n",
              "      <td>40</td>\n",
              "      <td>49</td>\n",
              "      <td>81</td>\n",
              "    </tr>\n",
              "    <tr>\n",
              "      <th>23</th>\n",
              "      <td>91</td>\n",
              "      <td>34</td>\n",
              "      <td>40</td>\n",
              "      <td>89</td>\n",
              "      <td>36</td>\n",
              "      <td>69</td>\n",
              "    </tr>\n",
              "    <tr>\n",
              "      <th>24</th>\n",
              "      <td>9</td>\n",
              "      <td>39</td>\n",
              "      <td>51</td>\n",
              "      <td>93</td>\n",
              "      <td>45</td>\n",
              "      <td>80</td>\n",
              "    </tr>\n",
              "    <tr>\n",
              "      <th>25</th>\n",
              "      <td>127</td>\n",
              "      <td>68</td>\n",
              "      <td>0</td>\n",
              "      <td>49</td>\n",
              "      <td>66</td>\n",
              "      <td>39</td>\n",
              "    </tr>\n",
              "    <tr>\n",
              "      <th>26</th>\n",
              "      <td>112</td>\n",
              "      <td>60</td>\n",
              "      <td>71</td>\n",
              "      <td>71</td>\n",
              "      <td>68</td>\n",
              "      <td>88</td>\n",
              "    </tr>\n",
              "    <tr>\n",
              "      <th>27</th>\n",
              "      <td>95</td>\n",
              "      <td>66</td>\n",
              "      <td>78</td>\n",
              "      <td>79</td>\n",
              "      <td>72</td>\n",
              "      <td>51</td>\n",
              "    </tr>\n",
              "    <tr>\n",
              "      <th>28</th>\n",
              "      <td>93</td>\n",
              "      <td>78</td>\n",
              "      <td>86</td>\n",
              "      <td>61</td>\n",
              "      <td>82</td>\n",
              "      <td>59</td>\n",
              "    </tr>\n",
              "    <tr>\n",
              "      <th>29</th>\n",
              "      <td>100</td>\n",
              "      <td>47</td>\n",
              "      <td>72</td>\n",
              "      <td>69</td>\n",
              "      <td>61</td>\n",
              "      <td>42</td>\n",
              "    </tr>\n",
              "  </tbody>\n",
              "</table>\n",
              "</div>\n",
              "      <button class=\"colab-df-convert\" onclick=\"convertToInteractive('df-ee8b797f-2ebe-499a-a882-85a48ec06825')\"\n",
              "              title=\"Convert this dataframe to an interactive table.\"\n",
              "              style=\"display:none;\">\n",
              "        \n",
              "  <svg xmlns=\"http://www.w3.org/2000/svg\" height=\"24px\"viewBox=\"0 0 24 24\"\n",
              "       width=\"24px\">\n",
              "    <path d=\"M0 0h24v24H0V0z\" fill=\"none\"/>\n",
              "    <path d=\"M18.56 5.44l.94 2.06.94-2.06 2.06-.94-2.06-.94-.94-2.06-.94 2.06-2.06.94zm-11 1L8.5 8.5l.94-2.06 2.06-.94-2.06-.94L8.5 2.5l-.94 2.06-2.06.94zm10 10l.94 2.06.94-2.06 2.06-.94-2.06-.94-.94-2.06-.94 2.06-2.06.94z\"/><path d=\"M17.41 7.96l-1.37-1.37c-.4-.4-.92-.59-1.43-.59-.52 0-1.04.2-1.43.59L10.3 9.45l-7.72 7.72c-.78.78-.78 2.05 0 2.83L4 21.41c.39.39.9.59 1.41.59.51 0 1.02-.2 1.41-.59l7.78-7.78 2.81-2.81c.8-.78.8-2.07 0-2.86zM5.41 20L4 18.59l7.72-7.72 1.47 1.35L5.41 20z\"/>\n",
              "  </svg>\n",
              "      </button>\n",
              "      \n",
              "  <style>\n",
              "    .colab-df-container {\n",
              "      display:flex;\n",
              "      flex-wrap:wrap;\n",
              "      gap: 12px;\n",
              "    }\n",
              "\n",
              "    .colab-df-convert {\n",
              "      background-color: #E8F0FE;\n",
              "      border: none;\n",
              "      border-radius: 50%;\n",
              "      cursor: pointer;\n",
              "      display: none;\n",
              "      fill: #1967D2;\n",
              "      height: 32px;\n",
              "      padding: 0 0 0 0;\n",
              "      width: 32px;\n",
              "    }\n",
              "\n",
              "    .colab-df-convert:hover {\n",
              "      background-color: #E2EBFA;\n",
              "      box-shadow: 0px 1px 2px rgba(60, 64, 67, 0.3), 0px 1px 3px 1px rgba(60, 64, 67, 0.15);\n",
              "      fill: #174EA6;\n",
              "    }\n",
              "\n",
              "    [theme=dark] .colab-df-convert {\n",
              "      background-color: #3B4455;\n",
              "      fill: #D2E3FC;\n",
              "    }\n",
              "\n",
              "    [theme=dark] .colab-df-convert:hover {\n",
              "      background-color: #434B5C;\n",
              "      box-shadow: 0px 1px 3px 1px rgba(0, 0, 0, 0.15);\n",
              "      filter: drop-shadow(0px 1px 2px rgba(0, 0, 0, 0.3));\n",
              "      fill: #FFFFFF;\n",
              "    }\n",
              "  </style>\n",
              "\n",
              "      <script>\n",
              "        const buttonEl =\n",
              "          document.querySelector('#df-ee8b797f-2ebe-499a-a882-85a48ec06825 button.colab-df-convert');\n",
              "        buttonEl.style.display =\n",
              "          google.colab.kernel.accessAllowed ? 'block' : 'none';\n",
              "\n",
              "        async function convertToInteractive(key) {\n",
              "          const element = document.querySelector('#df-ee8b797f-2ebe-499a-a882-85a48ec06825');\n",
              "          const dataTable =\n",
              "            await google.colab.kernel.invokeFunction('convertToInteractive',\n",
              "                                                     [key], {});\n",
              "          if (!dataTable) return;\n",
              "\n",
              "          const docLinkHtml = 'Like what you see? Visit the ' +\n",
              "            '<a target=\"_blank\" href=https://colab.research.google.com/notebooks/data_table.ipynb>data table notebook</a>'\n",
              "            + ' to learn more about interactive tables.';\n",
              "          element.innerHTML = '';\n",
              "          dataTable['output_type'] = 'display_data';\n",
              "          await google.colab.output.renderOutput(dataTable, element);\n",
              "          const docLink = document.createElement('div');\n",
              "          docLink.innerHTML = docLinkHtml;\n",
              "          element.appendChild(docLink);\n",
              "        }\n",
              "      </script>\n",
              "    </div>\n",
              "  </div>\n",
              "  "
            ]
          },
          "metadata": {},
          "execution_count": 53
        }
      ],
      "source": [
        "data = pd.read_excel('IQ_data.xlsx')\n",
        "data"
      ]
    },
    {
      "cell_type": "markdown",
      "metadata": {
        "id": "WvM8T4BArM8_"
      },
      "source": [
        "Prepare the data for a univariate regression of Test 1 based on the IQ result. Store the Test 1 scores in a variable, called X, and the IQ points in another variable, named Y. "
      ]
    },
    {
      "cell_type": "code",
      "execution_count": 54,
      "metadata": {
        "collapsed": true,
        "id": "e8JFssmxrM9C"
      },
      "outputs": [],
      "source": [
        "x = data['Test 1']\n",
        "y = data['IQ']\n"
      ]
    },
    {
      "cell_type": "markdown",
      "metadata": {
        "id": "a4nxCalfrM9E"
      },
      "source": [
        "### Univariate Regression"
      ]
    },
    {
      "cell_type": "code",
      "execution_count": 55,
      "metadata": {
        "collapsed": true,
        "colab": {
          "base_uri": "https://localhost:8080/"
        },
        "id": "6CtCM_verM9I",
        "outputId": "76d04e43-36d2-4a19-fd39-f5d1996806be"
      },
      "outputs": [
        {
          "output_type": "execute_result",
          "data": {
            "text/plain": [
              "0     84\n",
              "1     74\n",
              "2     55\n",
              "3     97\n",
              "4     85\n",
              "5     87\n",
              "6     77\n",
              "7     55\n",
              "8     38\n",
              "9     43\n",
              "10    72\n",
              "11    64\n",
              "12    70\n",
              "13    82\n",
              "14    51\n",
              "15    80\n",
              "16    70\n",
              "17    51\n",
              "18    93\n",
              "19    81\n",
              "20    83\n",
              "21    73\n",
              "22    51\n",
              "23    34\n",
              "24    39\n",
              "25    68\n",
              "26    60\n",
              "27    66\n",
              "28    78\n",
              "29    47\n",
              "Name: Test 1, dtype: int64"
            ]
          },
          "metadata": {},
          "execution_count": 55
        }
      ],
      "source": [
        "x"
      ]
    },
    {
      "cell_type": "code",
      "execution_count": 56,
      "metadata": {
        "collapsed": true,
        "colab": {
          "base_uri": "https://localhost:8080/"
        },
        "id": "8zeWW2u1rM9K",
        "outputId": "3a256e55-b714-4b64-d7a7-ef0bb1200877"
      },
      "outputs": [
        {
          "output_type": "execute_result",
          "data": {
            "text/plain": [
              "0     107\n",
              "1      93\n",
              "2     103\n",
              "3     122\n",
              "4     103\n",
              "5     106\n",
              "6      98\n",
              "7      93\n",
              "8      95\n",
              "9      13\n",
              "10    131\n",
              "11    116\n",
              "12     99\n",
              "13     97\n",
              "14    104\n",
              "15    103\n",
              "16     89\n",
              "17     99\n",
              "18    118\n",
              "19     99\n",
              "20    102\n",
              "21     94\n",
              "22     89\n",
              "23     91\n",
              "24      9\n",
              "25    127\n",
              "26    112\n",
              "27     95\n",
              "28     93\n",
              "29    100\n",
              "Name: IQ, dtype: int64"
            ]
          },
          "metadata": {},
          "execution_count": 56
        }
      ],
      "source": [
        "y"
      ]
    },
    {
      "cell_type": "markdown",
      "metadata": {
        "id": "qNM56_zbrM9O"
      },
      "source": [
        "Create a well-organized scatter plot. Use the “axis” method with the following start and end points: [0, 120, 0, 150]. Label the axes “Test 1” and “IQ”, respectively."
      ]
    },
    {
      "cell_type": "code",
      "execution_count": 59,
      "metadata": {
        "collapsed": true,
        "colab": {
          "base_uri": "https://localhost:8080/",
          "height": 265
        },
        "id": "n3Yi1NERrM9T",
        "outputId": "70f15f4e-9ecb-4b54-968c-db29c0d36870"
      },
      "outputs": [
        {
          "output_type": "display_data",
          "data": {
            "text/plain": [
              "<Figure size 432x288 with 1 Axes>"
            ],
            "image/png": "[encoded data removed]"
          },
          "metadata": {
            "needs_background": "light"
          }
        }
      ],
      "source": [
        "plt.scatter(x,y)\n",
        "plt.axis([0, 120, 0, 150])\n",
        "plt.show()"
      ]
    },
    {
      "cell_type": "markdown",
      "source": [
        "It looks like there is a positive relationship between IQ label and Test 1.so lets see whether  its a good predcitor of the final IQ or not."
      ],
      "metadata": {
        "id": "JO_HMKZPvysJ"
      }
    },
    {
      "cell_type": "markdown",
      "source": [
        "#Running Regression\n",
        "\n",
        " \n",
        "\n",
        "> StatesModule helps us running regression but we need to define a constant first\n",
        "\n",
        "\n",
        "\n"
      ],
      "metadata": {
        "id": "NZpCjmHU2arA"
      }
    },
    {
      "cell_type": "code",
      "source": [
        "c1= sm.add_constant(x)\n",
        "reg = sm.OLS(y,c1).fit()\n",
        "reg.summary()"
      ],
      "metadata": {
        "colab": {
          "base_uri": "https://localhost:8080/",
          "height": 506
        },
        "id": "171lQXAz2WZ7",
        "outputId": "e6b0340f-7a53-4b56-d957-39d1a7ba5d6c"
      },
      "execution_count": 60,
      "outputs": [
        {
          "output_type": "stream",
          "name": "stderr",
          "text": [
            "/usr/local/lib/python3.8/dist-packages/statsmodels/tsa/tsatools.py:142: FutureWarning: In a future version of pandas all arguments of concat except for the argument 'objs' will be keyword-only\n",
            "  x = pd.concat(x[::order], 1)\n"
          ]
        },
        {
          "output_type": "execute_result",
          "data": {
            "text/plain": [
              "<class 'statsmodels.iolib.summary.Summary'>\n",
              "\"\"\"\n",
              "                            OLS Regression Results                            \n",
              "==============================================================================\n",
              "Dep. Variable:                     IQ   R-squared:                       0.259\n",
              "Model:                            OLS   Adj. R-squared:                  0.232\n",
              "Method:                 Least Squares   F-statistic:                     9.768\n",
              "Date:                Thu, 15 Dec 2022   Prob (F-statistic):            0.00411\n",
              "Time:                        18:11:06   Log-Likelihood:                -134.94\n",
              "No. Observations:                  30   AIC:                             273.9\n",
              "Df Residuals:                      28   BIC:                             276.7\n",
              "Df Model:                           1                                         \n",
              "Covariance Type:            nonrobust                                         \n",
              "==============================================================================\n",
              "                 coef    std err          t      P>|t|      [0.025      0.975]\n",
              "------------------------------------------------------------------------------\n",
              "const         45.8828     16.760      2.738      0.011      11.552      80.213\n",
              "Test 1         0.7587      0.243      3.125      0.004       0.261       1.256\n",
              "==============================================================================\n",
              "Omnibus:                       18.268   Durbin-Watson:                   2.780\n",
              "Prob(Omnibus):                  0.000   Jarque-Bera (JB):               23.621\n",
              "Skew:                          -1.535   Prob(JB):                     7.43e-06\n",
              "Kurtosis:                       6.077   Cond. No.                         282.\n",
              "==============================================================================\n",
              "\n",
              "Notes:\n",
              "[1] Standard Errors assume that the covariance matrix of the errors is correctly specified.\n",
              "\"\"\""
            ],
            "text/html": [
              "<table class=\"simpletable\">\n",
              "<caption>OLS Regression Results</caption>\n",
              "<tr>\n",
              "  <th>Dep. Variable:</th>           <td>IQ</td>        <th>  R-squared:         </th> <td>   0.259</td>\n",
              "</tr>\n",
              "<tr>\n",
              "  <th>Model:</th>                   <td>OLS</td>       <th>  Adj. R-squared:    </th> <td>   0.232</td>\n",
              "</tr>\n",
              "<tr>\n",
              "  <th>Method:</th>             <td>Least Squares</td>  <th>  F-statistic:       </th> <td>   9.768</td>\n",
              "</tr>\n",
              "<tr>\n",
              "  <th>Date:</th>             <td>Thu, 15 Dec 2022</td> <th>  Prob (F-statistic):</th>  <td>0.00411</td>\n",
              "</tr>\n",
              "<tr>\n",
              "  <th>Time:</th>                 <td>18:11:06</td>     <th>  Log-Likelihood:    </th> <td> -134.94</td>\n",
              "</tr>\n",
              "<tr>\n",
              "  <th>No. Observations:</th>      <td>    30</td>      <th>  AIC:               </th> <td>   273.9</td>\n",
              "</tr>\n",
              "<tr>\n",
              "  <th>Df Residuals:</th>          <td>    28</td>      <th>  BIC:               </th> <td>   276.7</td>\n",
              "</tr>\n",
              "<tr>\n",
              "  <th>Df Model:</th>              <td>     1</td>      <th>                     </th>     <td> </td>   \n",
              "</tr>\n",
              "<tr>\n",
              "  <th>Covariance Type:</th>      <td>nonrobust</td>    <th>                     </th>     <td> </td>   \n",
              "</tr>\n",
              "</table>\n",
              "<table class=\"simpletable\">\n",
              "<tr>\n",
              "     <td></td>       <th>coef</th>     <th>std err</th>      <th>t</th>      <th>P>|t|</th>  <th>[0.025</th>    <th>0.975]</th>  \n",
              "</tr>\n",
              "<tr>\n",
              "  <th>const</th>  <td>   45.8828</td> <td>   16.760</td> <td>    2.738</td> <td> 0.011</td> <td>   11.552</td> <td>   80.213</td>\n",
              "</tr>\n",
              "<tr>\n",
              "  <th>Test 1</th> <td>    0.7587</td> <td>    0.243</td> <td>    3.125</td> <td> 0.004</td> <td>    0.261</td> <td>    1.256</td>\n",
              "</tr>\n",
              "</table>\n",
              "<table class=\"simpletable\">\n",
              "<tr>\n",
              "  <th>Omnibus:</th>       <td>18.268</td> <th>  Durbin-Watson:     </th> <td>   2.780</td>\n",
              "</tr>\n",
              "<tr>\n",
              "  <th>Prob(Omnibus):</th> <td> 0.000</td> <th>  Jarque-Bera (JB):  </th> <td>  23.621</td>\n",
              "</tr>\n",
              "<tr>\n",
              "  <th>Skew:</th>          <td>-1.535</td> <th>  Prob(JB):          </th> <td>7.43e-06</td>\n",
              "</tr>\n",
              "<tr>\n",
              "  <th>Kurtosis:</th>      <td> 6.077</td> <th>  Cond. No.          </th> <td>    282.</td>\n",
              "</tr>\n",
              "</table><br/><br/>Notes:<br/>[1] Standard Errors assume that the covariance matrix of the errors is correctly specified."
            ]
          },
          "metadata": {},
          "execution_count": 60
        }
      ]
    },
    {
      "cell_type": "markdown",
      "source": [
        "#Interpretation"
      ],
      "metadata": {
        "id": "g93lzthH5SeM"
      }
    },
    {
      "cell_type": "markdown",
      "source": [
        "\n",
        "\n",
        "\n",
        "\n",
        "1.   R^2 0.259 indicates that the independent varialble (Test_1) has 25.9 % power of explaining dependent variable (IQ). As it's less that 30%, it's not a good model.\n",
        "2.  Constant 45.8828 is the alfa, the starting point of regression line in a graph.\n",
        "\n",
        "3.   Coef (0.7587) of Test 1 score implies in every marks obtaind in Test 1 IQ level increase 0.7587. This coeffecient is the beta of slope of the regresssion line.\n",
        "\n",
        "4. Std err 0.243 implies that the beta coeffecient varies by 0.243\n",
        "\n",
        "\n",
        "\n",
        "\n",
        "\n",
        "\n"
      ],
      "metadata": {
        "id": "4wLO5IiY5Zde"
      }
    },
    {
      "cell_type": "markdown",
      "source": [
        "Alternativey scipy linregress allows us to calulutale slope, intercept, r_value, p_value, std_err "
      ],
      "metadata": {
        "id": "8Cl8Cp8B9HZW"
      }
    },
    {
      "cell_type": "code",
      "source": [
        "slope, intercept, r_value, p_value, std_err = stats.linregress(x,y)"
      ],
      "metadata": {
        "id": "s9DjnuNG9gng"
      },
      "execution_count": 61,
      "outputs": []
    },
    {
      "cell_type": "code",
      "source": [
        "slope"
      ],
      "metadata": {
        "colab": {
          "base_uri": "https://localhost:8080/"
        },
        "id": "io9F7Ec9-JVZ",
        "outputId": "f3a07020-22bb-44c7-cc5e-d22e234ddb6e"
      },
      "execution_count": 62,
      "outputs": [
        {
          "output_type": "execute_result",
          "data": {
            "text/plain": [
              "0.758723457096734"
            ]
          },
          "metadata": {},
          "execution_count": 62
        }
      ]
    },
    {
      "cell_type": "code",
      "source": [
        "intercept"
      ],
      "metadata": {
        "colab": {
          "base_uri": "https://localhost:8080/"
        },
        "id": "csPlTG5u-KkT",
        "outputId": "22578e06-2453-465e-cb0f-67d2d365a510"
      },
      "execution_count": 63,
      "outputs": [
        {
          "output_type": "execute_result",
          "data": {
            "text/plain": [
              "45.88277660499194"
            ]
          },
          "metadata": {},
          "execution_count": 63
        }
      ]
    },
    {
      "cell_type": "code",
      "source": [
        "r_value"
      ],
      "metadata": {
        "colab": {
          "base_uri": "https://localhost:8080/"
        },
        "id": "87rzRhjx-Mvq",
        "outputId": "6aa397e5-cdbb-432e-c402-701743f91572"
      },
      "execution_count": 64,
      "outputs": [
        {
          "output_type": "execute_result",
          "data": {
            "text/plain": [
              "0.5085667021566542"
            ]
          },
          "metadata": {},
          "execution_count": 64
        }
      ]
    },
    {
      "cell_type": "code",
      "source": [
        " r_value**2"
      ],
      "metadata": {
        "colab": {
          "base_uri": "https://localhost:8080/"
        },
        "id": "mUllpfC6-PCi",
        "outputId": "a9dcbef9-10df-45fa-a4ae-8c6bf71e6d5f"
      },
      "execution_count": 65,
      "outputs": [
        {
          "output_type": "execute_result",
          "data": {
            "text/plain": [
              "0.25864009054249504"
            ]
          },
          "metadata": {},
          "execution_count": 65
        }
      ]
    },
    {
      "cell_type": "code",
      "source": [
        "p_value"
      ],
      "metadata": {
        "colab": {
          "base_uri": "https://localhost:8080/"
        },
        "id": "BxAeUbaW-Yjl",
        "outputId": "3ae34d04-e0c2-46f4-bf36-7f2ebe675b34"
      },
      "execution_count": 66,
      "outputs": [
        {
          "output_type": "execute_result",
          "data": {
            "text/plain": [
              "0.004109055664218723"
            ]
          },
          "metadata": {},
          "execution_count": 66
        }
      ]
    },
    {
      "cell_type": "code",
      "source": [
        "std_err"
      ],
      "metadata": {
        "colab": {
          "base_uri": "https://localhost:8080/"
        },
        "id": "UtzkXjH8-eA3",
        "outputId": "77143fa7-969a-4c5e-edbe-1c65729b2495"
      },
      "execution_count": 67,
      "outputs": [
        {
          "output_type": "execute_result",
          "data": {
            "text/plain": [
              "0.24275664244042755"
            ]
          },
          "metadata": {},
          "execution_count": 67
        }
      ]
    },
    {
      "cell_type": "code",
      "source": [],
      "metadata": {
        "id": "QH6Kfut4-f1G"
      },
      "execution_count": 67,
      "outputs": []
    }
  ],
  "metadata": {
    "kernelspec": {
      "display_name": "Python 3",
      "language": "python",
      "name": "python3"
    },
    "language_info": {
      "codemirror_mode": {
        "name": "ipython",
        "version": 3
      },
      "file_extension": ".py",
      "mimetype": "text/x-python",
      "name": "python",
      "nbconvert_exporter": "python",
      "pygments_lexer": "ipython3",
      "version": "3.6.4"
    },
    "colab": {
      "provenance": []
    }
  },
  "nbformat": 4,
  "nbformat_minor": 0
}