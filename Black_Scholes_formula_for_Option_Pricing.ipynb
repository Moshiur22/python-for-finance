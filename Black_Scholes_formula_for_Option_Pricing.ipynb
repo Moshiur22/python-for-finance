{
  "nbformat": 4,
  "nbformat_minor": 0,
  "metadata": {
    "colab": {
      "provenance": [],
      "authorship_tag": "ABX9TyNUiRwCKySAfsL4z1TbDNvo"
    },
    "kernelspec": {
      "name": "python3",
      "display_name": "Python 3"
    },
    "language_info": {
      "name": "python"
    }
  },
  "cells": [
    {
      "cell_type": "markdown",
      "source": [
        "The goal of this exercise is to calculate the price of a call option. we will use Black-Scholes formula.\n",
        "\n",
        "> The Black-scholes formula: \" It Calculates the value of a call by taking the difference between the amount you get if you exercise the option minus the amount you have to pay if you exercise the option\n",
        "\n"
      ],
      "metadata": {
        "id": "KrCqIbnLWUuC"
      }
    },
    {
      "cell_type": "code",
      "source": [
        "pip install yfinance"
      ],
      "metadata": {
        "id": "MHFLA_yuXsyS"
      },
      "execution_count": null,
      "outputs": []
    },
    {
      "cell_type": "code",
      "source": [
        "import yfinance as yf\n",
        "yf.pdr_override()"
      ],
      "metadata": {
        "id": "1X0C9q-7X1ui"
      },
      "execution_count": 2,
      "outputs": []
    },
    {
      "cell_type": "code",
      "execution_count": 5,
      "metadata": {
        "id": "gvU1IcoZWKW6"
      },
      "outputs": [],
      "source": [
        "import numpy as np\n",
        "import pandas as pd\n",
        "from pandas_datareader import data as wb\n",
        "from scipy.stats import norm"
      ]
    },
    {
      "cell_type": "code",
      "source": [],
      "metadata": {
        "id": "aq2KdTEPYFIK"
      },
      "execution_count": 5,
      "outputs": []
    },
    {
      "cell_type": "markdown",
      "source": [
        "$$\n",
        "d_1 = \\frac{\\ln(\\frac{S}{K}) + (r + \\frac{stdev^2}{2})t}{s \\cdot \\sqrt{t}}\n",
        "$$\n",
        "\n",
        "$$\n",
        "d_2 = d_1 - s \\cdot \\sqrt{t} = \\frac{\\ln(\\frac{S}{K}) + (r - \\frac{stdev^2}{2})t}{s \\cdot \\sqrt{t}}\n",
        "$$\n",
        "\n",
        "\n",
        "\n",
        "> Here\n",
        "\n",
        "> s- Stock Price\n",
        ">>K - strike Price, r - risk free rate,stdev -standard Deviation,T- Time Horizon\n",
        "\n",
        "\n",
        "\n"
      ],
      "metadata": {
        "id": "Pi2CLzo9YGwa"
      }
    },
    {
      "cell_type": "code",
      "source": [
        "def d1(S,K,r,stdev,T):\n",
        "  return (np.log(S/K)+ (r + stdev**2/2)*T)/ (stdev * np.sqrt(T))\n",
        "\n",
        "\n",
        "def d2(S, K, r, stdev, T):\n",
        "    return (np.log(S / K) + (r - stdev ** 2 / 2) * T) / (stdev * np.sqrt(T))"
      ],
      "metadata": {
        "id": "8eM81CUwYHha"
      },
      "execution_count": 6,
      "outputs": []
    },
    {
      "cell_type": "markdown",
      "source": [
        "We need Standard Normal Distriibution. In this case we use norm.cdf() function. norm.cdf()  fucntion shows how the data accumulates overtime. "
      ],
      "metadata": {
        "id": "q9QPUOmef1gr"
      }
    },
    {
      "cell_type": "code",
      "source": [
        "norm.cdf(0)"
      ],
      "metadata": {
        "colab": {
          "base_uri": "https://localhost:8080/"
        },
        "id": "HxP6o0UOZ-iM",
        "outputId": "ece707a5-35e2-4392-8574-d7e6e58b76b7"
      },
      "execution_count": 7,
      "outputs": [
        {
          "output_type": "execute_result",
          "data": {
            "text/plain": [
              "0.5"
            ]
          },
          "metadata": {},
          "execution_count": 7
        }
      ]
    },
    {
      "cell_type": "markdown",
      "source": [
        "that means the value 0 lies in 50% of the distribution."
      ],
      "metadata": {
        "id": "_0hc4enAgWRj"
      }
    },
    {
      "cell_type": "markdown",
      "source": [
        "The Black Scholes Formula:\n",
        "\n",
        "> $$\n",
        "\\textbf{C} = SN(d_1) - Ke^{-rt}N(d_2) \n",
        "$$\n",
        "\n"
      ],
      "metadata": {
        "id": "jG7Am_DkgiuC"
      }
    },
    {
      "cell_type": "code",
      "source": [
        "def BSM(S, K, r, stdev, T):\n",
        "        return (S * norm.cdf(d1(S, K, r, stdev, T))) - (K * np.exp(-r * T) * norm.cdf(d2(S, K, r, stdev, T)))"
      ],
      "metadata": {
        "id": "YxT6lzHqgGSr"
      },
      "execution_count": 8,
      "outputs": []
    },
    {
      "cell_type": "code",
      "source": [
        "ticker= 'META'\n",
        "data= pd.DataFrame()\n",
        "data[ticker] = wb.DataReader(ticker, start='2007-1-1')['Adj Close']"
      ],
      "metadata": {
        "colab": {
          "base_uri": "https://localhost:8080/"
        },
        "id": "8szuiYmug_ej",
        "outputId": "f7cd9442-1b75-48bf-f014-2a579f6a061b"
      },
      "execution_count": 9,
      "outputs": [
        {
          "output_type": "stream",
          "name": "stdout",
          "text": [
            "\r[*********************100%***********************]  1 of 1 completed\n"
          ]
        }
      ]
    },
    {
      "cell_type": "code",
      "source": [
        "S= data.iloc[-1]\n",
        "S"
      ],
      "metadata": {
        "colab": {
          "base_uri": "https://localhost:8080/"
        },
        "id": "p1gIgrHRiF8F",
        "outputId": "0468e634-3917-465f-953f-8088f6f2aae1"
      },
      "execution_count": 11,
      "outputs": [
        {
          "output_type": "execute_result",
          "data": {
            "text/plain": [
              "META    120.339996\n",
              "Name: 2022-12-30 00:00:00, dtype: float64"
            ]
          },
          "metadata": {},
          "execution_count": 11
        }
      ]
    },
    {
      "cell_type": "code",
      "source": [
        "log_return = np.log(1 + data.pct_change())\n",
        "log_return"
      ],
      "metadata": {
        "id": "CFTYuDPViLMD"
      },
      "execution_count": null,
      "outputs": []
    },
    {
      "cell_type": "code",
      "source": [
        "stdev = log_return.std() * 250 ** 0.5\n",
        "stdev"
      ],
      "metadata": {
        "colab": {
          "base_uri": "https://localhost:8080/"
        },
        "id": "sPpOO3lKidt7",
        "outputId": "1b6742d0-710c-4dcd-f5eb-2a9eaf19cea0"
      },
      "execution_count": 14,
      "outputs": [
        {
          "output_type": "execute_result",
          "data": {
            "text/plain": [
              "META    0.402127\n",
              "dtype: float64"
            ]
          },
          "metadata": {},
          "execution_count": 14
        }
      ]
    },
    {
      "cell_type": "code",
      "source": [
        "r= 0.0388   ## 10 year US treasury bond rate\n",
        "K = 110     ## Strike price of the option\n",
        "T = 1       ## Time span"
      ],
      "metadata": {
        "id": "Dy5cQpq_ioGz"
      },
      "execution_count": 23,
      "outputs": []
    },
    {
      "cell_type": "code",
      "source": [
        "d1(S, K, r, stdev, T)"
      ],
      "metadata": {
        "colab": {
          "base_uri": "https://localhost:8080/"
        },
        "id": "nd7jIHP4i7o7",
        "outputId": "b82e5c48-71c9-4f90-c6ae-8a77f6ccc9d7"
      },
      "execution_count": 24,
      "outputs": [
        {
          "output_type": "execute_result",
          "data": {
            "text/plain": [
              "META    0.520964\n",
              "dtype: float64"
            ]
          },
          "metadata": {},
          "execution_count": 24
        }
      ]
    },
    {
      "cell_type": "code",
      "source": [
        "d2(S, K, r, stdev, T)"
      ],
      "metadata": {
        "colab": {
          "base_uri": "https://localhost:8080/"
        },
        "id": "DN_5q9mki__z",
        "outputId": "56250084-fbb5-4903-8a94-0bc3941eeab3"
      },
      "execution_count": 25,
      "outputs": [
        {
          "output_type": "execute_result",
          "data": {
            "text/plain": [
              "META    0.118838\n",
              "dtype: float64"
            ]
          },
          "metadata": {},
          "execution_count": 25
        }
      ]
    },
    {
      "cell_type": "code",
      "source": [
        "BSM(S, K, r, stdev, T)"
      ],
      "metadata": {
        "colab": {
          "base_uri": "https://localhost:8080/"
        },
        "id": "zPTiFVbJjCtj",
        "outputId": "5b8df2c3-79ad-4e08-952c-106faa839609"
      },
      "execution_count": 26,
      "outputs": [
        {
          "output_type": "execute_result",
          "data": {
            "text/plain": [
              "META    26.182439\n",
              "Name: 2022-12-30 00:00:00, dtype: float64"
            ]
          },
          "metadata": {},
          "execution_count": 26
        }
      ]
    },
    {
      "cell_type": "code",
      "source": [],
      "metadata": {
        "id": "twy8p3cPjFnj"
      },
      "execution_count": null,
      "outputs": []
    }
  ]
}